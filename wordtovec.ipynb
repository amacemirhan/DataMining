{
 "cells": [
  {
   "cell_type": "code",
   "execution_count": 1,
   "id": "26266a15-51fa-419b-b4a9-dd49851f9599",
   "metadata": {},
   "outputs": [],
   "source": [
    "import pandas as pd\n",
    "import numpy as np\n",
    "import gensim\n",
    "from sklearn.utils import shuffle\n",
    "from sklearn.model_selection import train_test_split\n",
    "from sklearn.metrics import classification_report, confusion_matrix, accuracy_score,f1_score\n",
    "from sklearn.ensemble import RandomForestClassifier\n",
    "from sklearn.neighbors import KNeighborsClassifier\n",
    "from sklearn.tree import DecisionTreeClassifier\n",
    "from sklearn.naive_bayes import GaussianNB"
   ]
  },
  {
   "cell_type": "code",
   "execution_count": 2,
   "id": "63f6cf99-f1c6-4478-a071-6d1f2be54e50",
   "metadata": {},
   "outputs": [
    {
     "data": {
      "text/html": [
       "<div>\n",
       "<style scoped>\n",
       "    .dataframe tbody tr th:only-of-type {\n",
       "        vertical-align: middle;\n",
       "    }\n",
       "\n",
       "    .dataframe tbody tr th {\n",
       "        vertical-align: top;\n",
       "    }\n",
       "\n",
       "    .dataframe thead th {\n",
       "        text-align: right;\n",
       "    }\n",
       "</style>\n",
       "<table border=\"1\" class=\"dataframe\">\n",
       "  <thead>\n",
       "    <tr style=\"text-align: right;\">\n",
       "      <th></th>\n",
       "      <th>Cumle</th>\n",
       "      <th>Sinif</th>\n",
       "    </tr>\n",
       "  </thead>\n",
       "  <tbody>\n",
       "    <tr>\n",
       "      <th>0</th>\n",
       "      <td>Onu bu yüzden suçlamıyordum.</td>\n",
       "      <td>6</td>\n",
       "    </tr>\n",
       "    <tr>\n",
       "      <th>1</th>\n",
       "      <td>Ciddi ifadeler taşıyan yüzlerine baktım.</td>\n",
       "      <td>2</td>\n",
       "    </tr>\n",
       "    <tr>\n",
       "      <th>2</th>\n",
       "      <td>Simmon’un yüz ifadesi dehşet içindeydi.</td>\n",
       "      <td>2</td>\n",
       "    </tr>\n",
       "    <tr>\n",
       "      <th>3</th>\n",
       "      <td>O yüzden aklımda kalmış olacak!</td>\n",
       "      <td>6</td>\n",
       "    </tr>\n",
       "    <tr>\n",
       "      <th>4</th>\n",
       "      <td>Sleat yüzünü ovuşturdu.</td>\n",
       "      <td>2</td>\n",
       "    </tr>\n",
       "  </tbody>\n",
       "</table>\n",
       "</div>"
      ],
      "text/plain": [
       "                                      Cumle  Sinif\n",
       "0              Onu bu yüzden suçlamıyordum.      6\n",
       "1  Ciddi ifadeler taşıyan yüzlerine baktım.      2\n",
       "2   Simmon’un yüz ifadesi dehşet içindeydi.      2\n",
       "3           O yüzden aklımda kalmış olacak!      6\n",
       "4                   Sleat yüzünü ovuşturdu.      2"
      ]
     },
     "execution_count": 2,
     "metadata": {},
     "output_type": "execute_result"
    }
   ],
   "source": [
    "df = pd.read_csv(\"yuz_veri_kumesi.csv\", sep=\";\")\n",
    "df.head()"
   ]
  },
  {
   "cell_type": "code",
   "execution_count": 3,
   "id": "e0c8bd5e-97eb-4711-ae35-91952a2cd0ce",
   "metadata": {},
   "outputs": [],
   "source": [
    "import re\n",
    "cumle = []\n",
    "for i in df['Cumle']:\n",
    "    kelime = str(i)\n",
    "    kelime = re.sub(r\"\\d+\", \" \", kelime)               # tum sayilari cikar\n",
    "    kelime = re.sub(r\"\\b[a-zA-Z]\\b\", \"\", kelime)       # tüm yalniz karakterleri cikar\n",
    "    kelime = re.sub(r\"\\b..\\b\", \" \", kelime)            # iki karakterli kelimeleri cikar\n",
    "    kelime = re.sub(r\"[^\\w\\s]\", \" \", kelime)           # tum noktalama isaretlerini cikar\n",
    "    kelime = re.sub(r\"\\s+\", \" \", kelime)               # cift boslukları tek boslukla degistirir\n",
    "    cumle.append(kelime)"
   ]
  },
  {
   "cell_type": "code",
   "execution_count": 4,
   "id": "2468496d-df21-4e25-b7f5-d83654bac81d",
   "metadata": {},
   "outputs": [],
   "source": [
    "df['Cumle'] = cumle"
   ]
  },
  {
   "cell_type": "code",
   "execution_count": 5,
   "id": "8032df37-5285-481d-a083-95e7ac513acf",
   "metadata": {},
   "outputs": [],
   "source": [
    "tokens = df['Cumle'].apply(lambda x: gensim.utils.simple_preprocess(x))"
   ]
  },
  {
   "cell_type": "code",
   "execution_count": 6,
   "id": "c60b8130-b37f-49c8-a3d8-9d8dec9a836a",
   "metadata": {},
   "outputs": [],
   "source": [
    "X_train, X_test, y_train, y_test = train_test_split (tokens, df['Sinif'] , test_size=0.7)"
   ]
  },
  {
   "cell_type": "code",
   "execution_count": 7,
   "id": "2a738206-9815-45be-b759-443faa31901a",
   "metadata": {},
   "outputs": [],
   "source": [
    "w2v_model = gensim.models.Word2Vec(X_train)\n",
    "kelimeler = set(w2v_model.wv.index_to_key )"
   ]
  },
  {
   "cell_type": "code",
   "execution_count": 8,
   "id": "3c3b9f78-c009-4936-9ec6-b91168113e9b",
   "metadata": {},
   "outputs": [
    {
     "name": "stderr",
     "output_type": "stream",
     "text": [
      "C:\\Users\\seyma\\AppData\\Local\\Temp\\ipykernel_12100\\963835519.py:1: VisibleDeprecationWarning: Creating an ndarray from ragged nested sequences (which is a list-or-tuple of lists-or-tuples-or ndarrays with different lengths or shapes) is deprecated. If you meant to do this, you must specify 'dtype=object' when creating the ndarray.\n",
      "  X_train = np.array([np.array([w2v_model.wv[i] for i in cumle if i in kelimeler]) for cumle in X_train])\n",
      "C:\\Users\\seyma\\AppData\\Local\\Temp\\ipykernel_12100\\963835519.py:2: VisibleDeprecationWarning: Creating an ndarray from ragged nested sequences (which is a list-or-tuple of lists-or-tuples-or ndarrays with different lengths or shapes) is deprecated. If you meant to do this, you must specify 'dtype=object' when creating the ndarray.\n",
      "  X_test = np.array([np.array([w2v_model.wv[i] for i in cumle if i in kelimeler]) for cumle in X_test])\n"
     ]
    }
   ],
   "source": [
    "X_train = np.array([np.array([w2v_model.wv[i] for i in cumle if i in kelimeler]) for cumle in X_train])\n",
    "X_test = np.array([np.array([w2v_model.wv[i] for i in cumle if i in kelimeler]) for cumle in X_test])"
   ]
  },
  {
   "cell_type": "code",
   "execution_count": 9,
   "id": "0af0c93f-4d99-4884-a4b9-18335d43f805",
   "metadata": {
    "tags": []
   },
   "outputs": [],
   "source": [
    "X_train_avg = []\n",
    "X_test_avg = []\n",
    "for v in X_train:\n",
    "    if v.size:\n",
    "        X_train_avg.append(v.mean(axis=0))\n",
    "    else:\n",
    "        X_train_avg.append(np.zeros(100, dtype=float))\n",
    "\n",
    "for v in X_test:\n",
    "    if v.size:\n",
    "        X_test_avg.append(v.mean(axis=0))\n",
    "    else:\n",
    "        X_test_avg.append(np.zeros(100, dtype=float))"
   ]
  },
  {
   "cell_type": "code",
   "execution_count": 10,
   "id": "00376ff6-fdaa-46e5-981f-bae7272e6b16",
   "metadata": {},
   "outputs": [],
   "source": [
    "nb = RandomForestClassifier(max_depth=20, random_state=0)\n",
    "model = nb.fit(X_train_avg, y_train.values.ravel())"
   ]
  },
  {
   "cell_type": "code",
   "execution_count": 11,
   "id": "71924b6b-e0d3-4b5d-ab0a-63b1c9528d35",
   "metadata": {},
   "outputs": [],
   "source": [
    "y_pred = model.predict(X_test_avg)"
   ]
  },
  {
   "cell_type": "code",
   "execution_count": 12,
   "id": "e2a4ed81-b8ff-45c2-9465-3f0efb6d5999",
   "metadata": {},
   "outputs": [
    {
     "name": "stdout",
     "output_type": "stream",
     "text": [
      "accuracy score: 0.713116670563479\n",
      "f1_score: 0.6831691147300603\n"
     ]
    }
   ],
   "source": [
    "print(\"accuracy score:\",accuracy_score(y_test, y_pred))\n",
    "print(\"f1_score:\",f1_score(y_test, y_pred, average='weighted'))"
   ]
  },
  {
   "cell_type": "code",
   "execution_count": null,
   "id": "ae10c2a6-b516-43ec-bccc-8cb7a8a4db9d",
   "metadata": {},
   "outputs": [],
   "source": []
  }
 ],
 "metadata": {
  "kernelspec": {
   "display_name": "Python 3 (ipykernel)",
   "language": "python",
   "name": "python3"
  },
  "language_info": {
   "codemirror_mode": {
    "name": "ipython",
    "version": 3
   },
   "file_extension": ".py",
   "mimetype": "text/x-python",
   "name": "python",
   "nbconvert_exporter": "python",
   "pygments_lexer": "ipython3",
   "version": "3.8.8"
  }
 },
 "nbformat": 4,
 "nbformat_minor": 5
}
